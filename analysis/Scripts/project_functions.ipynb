{
 "cells": [
  {
   "cell_type": "code",
   "execution_count": 1,
   "id": "proved-grocery",
   "metadata": {},
   "outputs": [],
   "source": [
    "import pandas as pd\n",
    "import numpy as np\n",
    "import matplotlib.pyplot as plt\n",
    "import seaborn as sns"
   ]
  },
  {
   "cell_type": "code",
   "execution_count": 2,
   "id": "quiet-occasion",
   "metadata": {},
   "outputs": [],
   "source": [
    "def load_and_process(path): \n",
    "    \n",
    "    data = pd.read_csv(path)\n",
    "    \n",
    "    newdf = (   \n",
    "    pd.DataFrame(data)\n",
    "    .rename(columns={\"alcohol\": \"Alc\"}) #Abbreviating longer column names\n",
    "    .rename(columns={\"free sulfur dioxide\": \"F.S.D.\"})\n",
    "    .rename(columns={\"total sulfur dioxide\": \"T.S.D.\"})\n",
    "    .sort_values(\"quality\", ascending=False) #Sorting by wine Quality to answer our research question\n",
    "    .reset_index(drop=True) #Adjusted Index to match our new sorted dataframe\n",
    "    )\n",
    "\n",
    "    return newdf"
   ]
  },
  {
   "cell_type": "code",
   "execution_count": 4,
   "id": "coordinated-opposition",
   "metadata": {},
   "outputs": [],
   "source": [
    "def load_and_process2(path):\n",
    "\n",
    "    df = (\n",
    "        pd.read_csv(path)\n",
    "        .rename(columns={\"residual sugar\":\"RS\"})\n",
    "        .rename(columns={\"free sulfur dioxide\":\"Free SO2\"})\n",
    "        .rename(columns={\"total sulfur dioxide\":\"Total SO2\"})\n",
    "        .rename(columns={\"fixed acidity\":\"A (fixed)\"})\n",
    "        .rename(columns={\"volatile acidity\":\"A (volatile)\"})\n",
    "        .sort_values(\"quality\", ascending=False)\n",
    "        .reset_index(drop=True)\n",
    "    )\n",
    "    \n",
    "    return df"
   ]
  },
  {
   "cell_type": "code",
   "execution_count": null,
   "id": "social-paintball",
   "metadata": {},
   "outputs": [],
   "source": []
  }
 ],
 "metadata": {
  "kernelspec": {
   "display_name": "Python 3",
   "language": "python",
   "name": "python3"
  },
  "language_info": {
   "codemirror_mode": {
    "name": "ipython",
    "version": 3
   },
   "file_extension": ".py",
   "mimetype": "text/x-python",
   "name": "python",
   "nbconvert_exporter": "python",
   "pygments_lexer": "ipython3",
   "version": "3.8.5"
  }
 },
 "nbformat": 4,
 "nbformat_minor": 5
}
